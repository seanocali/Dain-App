{
  "nbformat": 4,
  "nbformat_minor": 0,
  "metadata": {
    "colab": {
      "name": "Dain-App Colab.ipynb",
      "provenance": [],
      "collapsed_sections": [],
      "toc_visible": true
    },
    "kernelspec": {
      "name": "python3",
      "display_name": "Python 3"
    },
    "accelerator": "GPU"
  },
  "cells": [
    {
      "cell_type": "markdown",
      "metadata": {
        "id": "cWpo9q7lkR8X"
      },
      "source": [
        "# Check what processor Colab made avaiable to you:"
      ]
    },
    {
      "cell_type": "code",
      "metadata": {
        "id": "IabsZDECZCDg"
      },
      "source": [
        "import torch\n",
        "torch.cuda.get_device_name(0)"
      ],
      "execution_count": null,
      "outputs": []
    },
    {
      "cell_type": "markdown",
      "metadata": {
        "id": "RqA5RLmRkdRN"
      },
      "source": [
        "# Clone the project"
      ]
    },
    {
      "cell_type": "code",
      "metadata": {
        "id": "xEobV2KCMX3H"
      },
      "source": [
        "!git clone https://github.com/seanocali/Dain-App.git"
      ],
      "execution_count": null,
      "outputs": []
    },
    {
      "cell_type": "markdown",
      "metadata": {
        "id": "tBWM7qAOkrbJ"
      },
      "source": [
        "# Build Scripts\n",
        "This can take between 5 and 20 minutes.\n",
        "\n",
        "Colab may use pytorch < 1.7: Giving a error for the architecture >= 8.0 "
      ]
    },
    {
      "cell_type": "code",
      "metadata": {
        "id": "URLAK9tpMrnD"
      },
      "source": [
        "%%bash\n",
        "cd /content/Dain-App/my_package\n",
        "sh build.sh"
      ],
      "execution_count": null,
      "outputs": []
    },
    {
      "cell_type": "code",
      "metadata": {
        "id": "1rZ-ffN2Mr-v",
        "outputId": "e2fdd4a3-2cfa-464b-dadf-6c492e039c06",
        "colab": {
          "base_uri": "https://localhost:8080/"
        }
      },
      "source": [
        "%%bash\n",
        "cd /content/Dain-App/PWCNet/correlation_package_pytorch1_0\n",
        "sh build.sh"
      ],
      "execution_count": 4,
      "outputs": [
        {
          "output_type": "stream",
          "text": [
            "running install\n",
            "running bdist_egg\n",
            "running egg_info\n",
            "creating correlation_cuda.egg-info\n",
            "writing correlation_cuda.egg-info/PKG-INFO\n",
            "writing dependency_links to correlation_cuda.egg-info/dependency_links.txt\n",
            "writing top-level names to correlation_cuda.egg-info/top_level.txt\n",
            "writing manifest file 'correlation_cuda.egg-info/SOURCES.txt'\n",
            "writing manifest file 'correlation_cuda.egg-info/SOURCES.txt'\n",
            "installing library code to build/bdist.linux-x86_64/egg\n",
            "running install_lib\n",
            "running build_ext\n",
            "building 'correlation_cuda' extension\n",
            "creating build\n",
            "creating build/temp.linux-x86_64-3.6\n",
            "x86_64-linux-gnu-gcc -pthread -DNDEBUG -g -fwrapv -O2 -Wall -g -fstack-protector-strong -Wformat -Werror=format-security -Wdate-time -D_FORTIFY_SOURCE=2 -fPIC -I/usr/local/lib/python3.6/dist-packages/torch/include -I/usr/local/lib/python3.6/dist-packages/torch/include/torch/csrc/api/include -I/usr/local/lib/python3.6/dist-packages/torch/include/TH -I/usr/local/lib/python3.6/dist-packages/torch/include/THC -I/usr/local/cuda/include -I/usr/include/python3.6m -c correlation_cuda.cc -o build/temp.linux-x86_64-3.6/correlation_cuda.o -std=c++17 -DTORCH_API_INCLUDE_EXTENSION_H -DTORCH_EXTENSION_NAME=correlation_cuda -D_GLIBCXX_USE_CXX11_ABI=0\n",
            "/usr/local/cuda/bin/nvcc -I/usr/local/lib/python3.6/dist-packages/torch/include -I/usr/local/lib/python3.6/dist-packages/torch/include/torch/csrc/api/include -I/usr/local/lib/python3.6/dist-packages/torch/include/TH -I/usr/local/lib/python3.6/dist-packages/torch/include/THC -I/usr/local/cuda/include -I/usr/include/python3.6m -c correlation_cuda_kernel.cu -o build/temp.linux-x86_64-3.6/correlation_cuda_kernel.o -D__CUDA_NO_HALF_OPERATORS__ -D__CUDA_NO_HALF_CONVERSIONS__ -D__CUDA_NO_HALF2_OPERATORS__ --expt-relaxed-constexpr --compiler-options '-fPIC' -gencode arch=compute_37,code=sm_37 -gencode arch=compute_50,code=sm_50 -gencode arch=compute_52,code=sm_52 -gencode arch=compute_53,code=sm_53 -gencode arch=compute_60,code=sm_60 -gencode arch=compute_61,code=sm_61 -gencode arch=compute_62,code=sm_62 -gencode arch=compute_70,code=sm_70 -gencode arch=compute_72,code=sm_72 -gencode arch=compute_75,code=sm_75 -gencode arch=compute_80,code=sm_80 -gencode arch=compute_86,code=sm_86 -DTORCH_API_INCLUDE_EXTENSION_H -DTORCH_EXTENSION_NAME=correlation_cuda -D_GLIBCXX_USE_CXX11_ABI=0 -std=c++14\n"
          ],
          "name": "stdout"
        },
        {
          "output_type": "stream",
          "text": [
            "In file included from /usr/local/lib/python3.6/dist-packages/torch/include/ATen/Parallel.h:149:0,\n",
            "                 from /usr/local/lib/python3.6/dist-packages/torch/include/torch/csrc/api/include/torch/utils.h:3,\n",
            "                 from /usr/local/lib/python3.6/dist-packages/torch/include/torch/csrc/api/include/torch/nn/cloneable.h:5,\n",
            "                 from /usr/local/lib/python3.6/dist-packages/torch/include/torch/csrc/api/include/torch/nn.h:3,\n",
            "                 from /usr/local/lib/python3.6/dist-packages/torch/include/torch/csrc/api/include/torch/all.h:12,\n",
            "                 from /usr/local/lib/python3.6/dist-packages/torch/include/torch/csrc/api/include/torch/torch.h:3,\n",
            "                 from correlation_cuda.cc:1:\n",
            "/usr/local/lib/python3.6/dist-packages/torch/include/ATen/ParallelOpenMP.h:84:0: warning: ignoring #pragma omp parallel [-Wunknown-pragmas]\n",
            " #pragma omp parallel for if ((end - begin) >= grain_size)\n",
            " \n",
            "nvcc fatal   : Unsupported gpu architecture 'compute_80'\n",
            "/usr/local/lib/python3.6/dist-packages/torch/utils/cpp_extension.py:339: UserWarning: Attempted to use ninja as the BuildExtension backend but we could not find ninja.. Falling back to using the slow distutils backend.\n",
            "  warnings.warn(msg.format('we could not find ninja.'))\n",
            "error: command '/usr/local/cuda/bin/nvcc' failed with exit status 1\n"
          ],
          "name": "stderr"
        }
      ]
    },
    {
      "cell_type": "markdown",
      "metadata": {
        "id": "CuoQJgZcaBSt"
      },
      "source": [
        "# Install packages:"
      ]
    },
    {
      "cell_type": "code",
      "metadata": {
        "id": "nqU0Clo5YAoK",
        "outputId": "088678c5-8d7b-42cc-84be-4b5f486786fa",
        "colab": {
          "base_uri": "https://localhost:8080/"
        }
      },
      "source": [
        "!pip install PyQt5"
      ],
      "execution_count": 5,
      "outputs": [
        {
          "output_type": "stream",
          "text": [
            "Collecting PyQt5\n",
            "\u001b[?25l  Downloading https://files.pythonhosted.org/packages/91/cf/cc705497cdae04c3c0bc34f94b91e31b6585bb65eb561f18473c998caae1/PyQt5-5.15.2-5.15.2-cp35.cp36.cp37.cp38.cp39-abi3-manylinux2014_x86_64.whl (68.3MB)\n",
            "\u001b[K     |████████████████████████████████| 68.3MB 43kB/s \n",
            "\u001b[?25hCollecting PyQt5-sip<13,>=12.8\n",
            "\u001b[?25l  Downloading https://files.pythonhosted.org/packages/f5/a7/3c52a17b065bcc69a6ca791b88901feeacd410235ec4b23441d975d0ecf4/PyQt5_sip-12.8.1-cp36-cp36m-manylinux1_x86_64.whl (278kB)\n",
            "\u001b[K     |████████████████████████████████| 286kB 53.6MB/s \n",
            "\u001b[?25hInstalling collected packages: PyQt5-sip, PyQt5\n",
            "Successfully installed PyQt5-5.15.2 PyQt5-sip-12.8.1\n"
          ],
          "name": "stdout"
        }
      ]
    },
    {
      "cell_type": "markdown",
      "metadata": {
        "id": "nelPNg-2ZY1w"
      },
      "source": [
        "#Run:\n",
        "Interpolation Mode 3 and 4 require a newer FFMPEG that Colab comes by default."
      ]
    },
    {
      "cell_type": "code",
      "metadata": {
        "id": "hv5G4rrNaSiE",
        "outputId": "61efffcf-534d-477e-cd6e-0a2f30e4ae39",
        "colab": {
          "base_uri": "https://localhost:8080/"
        }
      },
      "source": [
        "%cd /content/Dain-App\n",
        "!python  my_design.py -cli -h"
      ],
      "execution_count": 6,
      "outputs": [
        {
          "output_type": "stream",
          "text": [
            "/content/Dain-App\n",
            "Traceback (most recent call last):\n",
            "  File \"my_design.py\", line 8, in <module>\n",
            "    import my_DAIN_class\n",
            "  File \"/content/Dain-App/my_DAIN_class.py\", line 9, in <module>\n",
            "    import networks\n",
            "  File \"/content/Dain-App/networks/__init__.py\", line 1, in <module>\n",
            "    from .DAIN import DAIN\n",
            "  File \"/content/Dain-App/networks/DAIN.py\", line 6, in <module>\n",
            "    from my_package.FilterInterpolation import  FilterInterpolationModule\n",
            "  File \"/content/Dain-App/my_package/FilterInterpolation/__init__.py\", line 1, in <module>\n",
            "    from .FilterInterpolationModule import *\n",
            "  File \"/content/Dain-App/my_package/FilterInterpolation/FilterInterpolationModule.py\", line 6, in <module>\n",
            "    from .FilterInterpolationLayer import FilterInterpolationLayer,WeightLayer, PixelValueLayer,PixelWeightLayer,ReliableWeightLayer\n",
            "  File \"/content/Dain-App/my_package/FilterInterpolation/FilterInterpolationLayer.py\", line 4, in <module>\n",
            "    import filterinterpolation_cuda as my_lib\n",
            "ModuleNotFoundError: No module named 'filterinterpolation_cuda'\n"
          ],
          "name": "stdout"
        }
      ]
    },
    {
      "cell_type": "code",
      "metadata": {
        "id": "ZaSHdzQWXobS",
        "outputId": "697bb3f6-5060-49e6-98ca-7ca940277c81",
        "colab": {
          "base_uri": "https://localhost:8080/"
        }
      },
      "source": [
        "%cd /content/Dain-App\n",
        "!python  my_design.py -cli --input \"/content/Dain-App/example.mp4\" -o \"/content/Dain-App/example_folder/\" -on \"interpolated.mp4\" -m \"model_weights/best.pth\" -fh 2 --interpolations 2 --depth_awarenes 0 --loop 0 -p 0 --alpha 0 --check_scene_change 10 --png_compress 0 --crf 1 --pixel_upscale_downscale_before 1 --pixel_downscale_upscale_after 1 --pixel_upscale_after 1 --mute_ffmpeg 0 --split_size_x -1 --split_size_y -1 --split_pad 150 --half 0 --step_extract 1 --step_interpolate 1 --batch_size 1 --use_benchmark 0 --force_flow 1 --smooth_flow 0 --downscale -1 --fast_mode 0"
      ],
      "execution_count": 7,
      "outputs": [
        {
          "output_type": "stream",
          "text": [
            "/content/Dain-App\n",
            "Traceback (most recent call last):\n",
            "  File \"my_design.py\", line 8, in <module>\n",
            "    import my_DAIN_class\n",
            "  File \"/content/Dain-App/my_DAIN_class.py\", line 9, in <module>\n",
            "    import networks\n",
            "  File \"/content/Dain-App/networks/__init__.py\", line 1, in <module>\n",
            "    from .DAIN import DAIN\n",
            "  File \"/content/Dain-App/networks/DAIN.py\", line 6, in <module>\n",
            "    from my_package.FilterInterpolation import  FilterInterpolationModule\n",
            "  File \"/content/Dain-App/my_package/FilterInterpolation/__init__.py\", line 1, in <module>\n",
            "    from .FilterInterpolationModule import *\n",
            "  File \"/content/Dain-App/my_package/FilterInterpolation/FilterInterpolationModule.py\", line 6, in <module>\n",
            "    from .FilterInterpolationLayer import FilterInterpolationLayer,WeightLayer, PixelValueLayer,PixelWeightLayer,ReliableWeightLayer\n",
            "  File \"/content/Dain-App/my_package/FilterInterpolation/FilterInterpolationLayer.py\", line 4, in <module>\n",
            "    import filterinterpolation_cuda as my_lib\n",
            "ModuleNotFoundError: No module named 'filterinterpolation_cuda'\n"
          ],
          "name": "stdout"
        }
      ]
    }
  ]
}